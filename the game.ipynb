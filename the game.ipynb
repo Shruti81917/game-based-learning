{
 "cells": [
  {
   "cell_type": "code",
   "execution_count": 29,
   "id": "305410fc",
   "metadata": {},
   "outputs": [
    {
     "name": "stdout",
     "output_type": "stream",
     "text": [
      "Guess where Jiraiya sensei is hiding?\n",
      "0\n",
      "0\n",
      "Jiraiya: A variable is a named storage location in memory that holds a value which can be modified during program execution.\n",
      "2\n",
      "2\n",
      "Wrong locarion\n",
      "1\n",
      "1\n",
      "Wrong locarion\n",
      "2\n",
      "2\n",
      "Wrong locarion\n",
      "3\n",
      "3\n",
      "Jiraiya: Syntax= VARIABLE= VARIABLE + VARIABLE\n"
     ]
    }
   ],
   "source": [
    "def ans():\n",
    "    n = 0\n",
    "    while n < 3:\n",
    "        if n == 0:\n",
    "            i = input()\n",
    "            if i == \"a=4\":\n",
    "                n += 1\n",
    "                print(\"Level 1: Completed\")\n",
    "            else:\n",
    "                print(\"a should be 4 right?\")\n",
    "        elif n == 1:\n",
    "            i = input()\n",
    "            if i == \"b=5\":\n",
    "                n += 1\n",
    "                print(\"Level 2: Completed\")\n",
    "            else:\n",
    "                print(\"b should be 5 right?\")\n",
    "        elif n == 2:\n",
    "            i = input()\n",
    "            if i == \"c=a+b\":\n",
    "                n += 1\n",
    "            else:\n",
    "                print(\"Don't forget the c!\")\n",
    "def clue(q,w):\n",
    "    if(q==0 and w==0):\n",
    "        print(\"Jiraiya: A variable is a named storage location in memory that holds a value which can be modified during program execution.\")\n",
    "    elif(q==0 and w==2):\n",
    "        print(\"Jiraiya: Operators are special symbols or keywords in programming that perform operations on variables and values, such as addition, subtraction, comparison, and logical operations.\")  \n",
    "    elif(q==2 and w==1):\n",
    "        print(\"Jiraiya: Syntax= CONSTANT_VARIABLE = VALUE\")\n",
    "    elif(q==3 and w==3):\n",
    "        print(\"Jiraiya: Syntax= \"\"VARIABLE= VARIABLE + VARIABLE\"\"\")\n",
    "    elif(q==4 and w==4):\n",
    "        print(\"Jiraiya has taught you a jutsus now, use it and write a program to add 4 and 5 using a and b as variables and store in variable c\")\n",
    "        ans()\n",
    "        print(\"Become the HERO you want to be!\")\n",
    "a=[\n",
    "    [1,0,1,0,0],\n",
    "    [0,0,0,0,0],\n",
    "    [0,1,0,0,0],\n",
    "    [0,0,0,1,0],\n",
    "    [0,0,0,0,1]]\n",
    "n=0;\n",
    "print(\"Guess where Jiraiya sensei is hiding?\")\n",
    "while(n<5):\n",
    "    x=int(input())\n",
    "    y=int(input())\n",
    "    if(a[x][y]==1):\n",
    "        clue(x,y)\n",
    "    else:\n",
    "        print(\"Wrong locarion\")\n",
    "    n+=1\n"
   ]
  },
  {
   "cell_type": "code",
   "execution_count": null,
   "id": "bc39b8f5",
   "metadata": {},
   "outputs": [],
   "source": []
  }
 ],
 "metadata": {
  "kernelspec": {
   "display_name": "Python 3 (ipykernel)",
   "language": "python",
   "name": "python3"
  },
  "language_info": {
   "codemirror_mode": {
    "name": "ipython",
    "version": 3
   },
   "file_extension": ".py",
   "mimetype": "text/x-python",
   "name": "python",
   "nbconvert_exporter": "python",
   "pygments_lexer": "ipython3",
   "version": "3.11.5"
  }
 },
 "nbformat": 4,
 "nbformat_minor": 5
}
